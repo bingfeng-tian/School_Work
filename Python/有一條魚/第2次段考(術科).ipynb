{
 "cells": [
  {
   "cell_type": "code",
   "execution_count": null,
   "metadata": {},
   "outputs": [],
   "source": [
    "#1\n",
    "a=float(input())\n",
    "b=float(input())\n",
    "c=float(input())\n",
    "d=float(input())\n",
    "print('|%7.2f|' %a)\n",
    "print('|%7.2f|' %b)\n",
    "print('|%7.2f|' %c)\n",
    "print('|%7.2f|' %d)\n",
    "print('|%-7.2f|' %a)\n",
    "print('|%-7.2f|' %b)\n",
    "print('|%-7.2f|' %c)\n",
    "print('|%-7.2f|' %d)"
   ]
  },
  {
   "cell_type": "code",
   "execution_count": 2,
   "metadata": {},
   "outputs": [
    {
     "name": "stdout",
     "output_type": "stream",
     "text": [
      "I\n",
      "enjoy\n",
      "learning\n",
      "Python\n",
      "|         I|\n",
      "|     enjoy|\n",
      "|  learning|\n",
      "|    Python|\n",
      "|I         |\n",
      "|enjoy     |\n",
      "|learning  |\n",
      "|Python    |\n"
     ]
    }
   ],
   "source": [
    "#2\n",
    "a=input()\n",
    "b=input()\n",
    "c=input()\n",
    "d=input()\n",
    "print('|%10s|' %a)\n",
    "print('|%10s|' %b)\n",
    "print('|%10s|' %c)\n",
    "print('|%10s|' %d)\n",
    "print('|%-10s|' %a)\n",
    "print('|%-10s|' %b)\n",
    "print('|%-10s|' %c)\n",
    "print('|%-10s|' %d)"
   ]
  },
  {
   "cell_type": "code",
   "execution_count": 3,
   "metadata": {},
   "outputs": [],
   "source": [
    "#3\n"
   ]
  },
  {
   "cell_type": "code",
   "execution_count": null,
   "metadata": {},
   "outputs": [],
   "source": [
    "#4"
   ]
  },
  {
   "cell_type": "code",
   "execution_count": null,
   "metadata": {},
   "outputs": [],
   "source": [
    "#5"
   ]
  },
  {
   "cell_type": "code",
   "execution_count": 4,
   "metadata": {},
   "outputs": [],
   "source": [
    "#6"
   ]
  },
  {
   "cell_type": "code",
   "execution_count": null,
   "metadata": {},
   "outputs": [],
   "source": [
    "#7"
   ]
  },
  {
   "cell_type": "code",
   "execution_count": null,
   "metadata": {},
   "outputs": [],
   "source": [
    "#8"
   ]
  },
  {
   "cell_type": "code",
   "execution_count": 5,
   "metadata": {},
   "outputs": [],
   "source": [
    "#9"
   ]
  },
  {
   "cell_type": "code",
   "execution_count": null,
   "metadata": {},
   "outputs": [],
   "source": [
    "#10"
   ]
  }
 ],
 "metadata": {
  "kernelspec": {
   "display_name": "Python 3",
   "language": "python",
   "name": "python3"
  },
  "language_info": {
   "codemirror_mode": {
    "name": "ipython",
    "version": 3
   },
   "file_extension": ".py",
   "mimetype": "text/x-python",
   "name": "python",
   "nbconvert_exporter": "python",
   "pygments_lexer": "ipython3",
   "version": "3.7.6"
  }
 },
 "nbformat": 4,
 "nbformat_minor": 4
}
