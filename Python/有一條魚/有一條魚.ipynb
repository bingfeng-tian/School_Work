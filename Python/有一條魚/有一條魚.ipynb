{
 "cells": [
  {
   "cell_type": "code",
   "execution_count": 1,
   "metadata": {},
   "outputs": [
    {
     "name": "stdout",
     "output_type": "stream",
     "text": [
      "請輸入一個正整數:20\n",
      "20是一個偶數\n"
     ]
    }
   ],
   "source": [
    "#1\n",
    "n=int(input('請輸入一個正整數:'))\n",
    "if n%2==0:\n",
    "    print('%d是一個偶數' %n)\n",
    "else:\n",
    "    print('%d是一個奇數' %n)\n",
    "    "
   ]
  },
  {
   "cell_type": "code",
   "execution_count": null,
   "metadata": {},
   "outputs": [],
   "source": [
    "#2\n"
   ]
  },
  {
   "cell_type": "code",
   "execution_count": 2,
   "metadata": {},
   "outputs": [
    {
     "name": "stdin",
     "output_type": "stream",
     "text": [
      "請輸入一個介於1~99之間的整數: 4\n"
     ]
    },
    {
     "name": "stdout",
     "output_type": "stream",
     "text": [
      "4不是3和5的公倍數\n"
     ]
    }
   ],
   "source": [
    "#3\n",
    "n=int(input('請輸入一個介於1~99之間的整數:'))\n",
    "if n%3==0 and n%5==0:\n",
    "    print('%d是3和5的公倍數' %n)\n",
    "elif n %3==0:\n",
    "    print('%d是3的倍數' %n)\n",
    "elif 5==0:\n",
    "     print('%d是5的倍數' %n)     \n",
    "else:\n",
    "     print ('%d不是3和5的公倍數' %n)"
   ]
  },
  {
   "cell_type": "code",
   "execution_count": null,
   "metadata": {},
   "outputs": [],
   "source": [
    "#4\n",
    "y=int(input('請輸入一個西元年分'))\n",
    "if y%400==0 or (y%4==0 and y%100!=0):\n",
    "    print('%d是閏年' %y)\n",
    "else:\n",
    "    print('%d是平年' %y)\n",
    "    "
   ]
  },
  {
   "cell_type": "code",
   "execution_count": 2,
   "metadata": {},
   "outputs": [
    {
     "name": "stdout",
     "output_type": "stream",
     "text": [
      "請輸入月份:2\n",
      "2月為春季\n"
     ]
    }
   ],
   "source": [
    "#5\n",
    "m=int(input('請輸入月份:'))\n",
    "if 2<=m<=4:\n",
    "    print('%d月為春季' %m)\n",
    "elif 5<=m<=7:\n",
    "    print('%d月為夏季' %m)\n",
    "elif 8<=m<=10:\n",
    "    print('%d月為秋季' %m)    \n",
    "elif 11<=m<=12 or m==1:\n",
    "    print('%d月為冬季' %m)    "
   ]
  },
  {
   "cell_type": "code",
   "execution_count": null,
   "metadata": {},
   "outputs": [],
   "source": [
    "#6"
   ]
  }
 ],
 "metadata": {
  "kernelspec": {
   "display_name": "Python 3 (ipykernel)",
   "language": "python",
   "name": "python3"
  },
  "language_info": {
   "codemirror_mode": {
    "name": "ipython",
    "version": 3
   },
   "file_extension": ".py",
   "mimetype": "text/x-python",
   "name": "python",
   "nbconvert_exporter": "python",
   "pygments_lexer": "ipython3",
   "version": "3.11.1"
  }
 },
 "nbformat": 4,
 "nbformat_minor": 4
}
