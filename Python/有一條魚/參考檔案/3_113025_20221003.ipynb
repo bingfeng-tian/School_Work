{
 "cells": [
  {
   "cell_type": "code",
   "execution_count": 1,
   "metadata": {},
   "outputs": [],
   "source": [
    "#資一1 25號 陳俞安"
   ]
  },
  {
   "cell_type": "code",
   "execution_count": 2,
   "metadata": {},
   "outputs": [
    {
     "name": "stdout",
     "output_type": "stream",
     "text": [
      "140733249859792 140733249859792\n",
      "123 123\n"
     ]
    }
   ],
   "source": [
    "#7\n",
    "x=123\n",
    "y=x\n",
    "print(id(x),id(y))\n",
    "print(x,y)\n"
   ]
  },
  {
   "cell_type": "code",
   "execution_count": 3,
   "metadata": {},
   "outputs": [
    {
     "name": "stdout",
     "output_type": "stream",
     "text": [
      "140733249859792 140733249859792\n",
      "140733249859792 140733249859824\n",
      "123 124\n"
     ]
    }
   ],
   "source": [
    "#8\n",
    "x=y=123\n",
    "print(id(x),id(y))\n",
    "y=y+1\n",
    "print(id(x),id(y))\n",
    "print(x,y)"
   ]
  },
  {
   "cell_type": "code",
   "execution_count": 7,
   "metadata": {},
   "outputs": [
    {
     "name": "stdout",
     "output_type": "stream",
     "text": [
      "<class 'bool'>\n",
      "False\n",
      "True\n",
      "True\n",
      "False\n",
      "True\n"
     ]
    }
   ],
   "source": [
    "#9\n",
    "b=False\n",
    "print(type(b))\n",
    "print(bool(0))\n",
    "print(bool(1))\n",
    "print(bool(9))\n",
    "print(bool(''))\n",
    "print(bool('python'))"
   ]
  },
  {
   "cell_type": "code",
   "execution_count": 5,
   "metadata": {},
   "outputs": [
    {
     "name": "stdout",
     "output_type": "stream",
     "text": [
      "<class 'int'>\n",
      "12\n",
      "12\n",
      "12121212\n",
      "0b1100\n",
      "0o14\n",
      "0xc\n"
     ]
    }
   ],
   "source": [
    "#10\n",
    "print(type(12))\n",
    "print(int(12.52))\n",
    "print('12')\n",
    "print(int('12'*4))\n",
    "print(bin(12))\n",
    "print(oct(12))\n",
    "print(hex(12))"
   ]
  },
  {
   "cell_type": "code",
   "execution_count": null,
   "metadata": {},
   "outputs": [],
   "source": []
  }
 ],
 "metadata": {
  "kernelspec": {
   "display_name": "Python 3 (ipykernel)",
   "language": "python",
   "name": "python3"
  },
  "language_info": {
   "codemirror_mode": {
    "name": "ipython",
    "version": 3
   },
   "file_extension": ".py",
   "mimetype": "text/x-python",
   "name": "python",
   "nbconvert_exporter": "python",
   "pygments_lexer": "ipython3",
   "version": "3.11.1"
  }
 },
 "nbformat": 4,
 "nbformat_minor": 4
}
