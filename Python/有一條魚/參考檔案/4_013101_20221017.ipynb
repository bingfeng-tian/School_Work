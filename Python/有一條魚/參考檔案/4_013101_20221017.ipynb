{
 "cells": [
  {
   "cell_type": "code",
   "execution_count": null,
   "metadata": {},
   "outputs": [],
   "source": [
    "#資一1 25號 陳俞安"
   ]
  },
  {
   "cell_type": "code",
   "execution_count": null,
   "metadata": {},
   "outputs": [],
   "source": [
    "#11\n",
    "c=int(input('請輸入國文成績:'))\n",
    "e=int(input('請輸入英文成績:'))\n",
    "m=int(input('請輸入數學成績:'))\n",
    "print('三科總分為:',c+e+m)"
   ]
  },
  {
   "cell_type": "code",
   "execution_count": null,
   "metadata": {},
   "outputs": [],
   "source": [
    "#12\n",
    "f1,i=1.5462,12345\n",
    "print(type(f1))\n",
    "f2=floet(i)\n",
    "print(f2)\n",
    "print(float.is_inter=ger(f1))\n",
    "print(float.is_inter=ger(f2))\n",
    "print(round(f1,2))\n",
    "print(round(f1))"
   ]
  },
  {
   "cell_type": "code",
   "execution_count": null,
   "metadata": {},
   "outputs": [],
   "source": [
    "#13\n",
    "print(\"\\'1234567890!\\'\")\n",
    "print(\"\\\"1234567890!\\\"\")\n",
    "print(\"12345\\\\67890!\")\n",
    "print(\"12345\\\\n67890!\")\n",
    "print(\"12345\\\\t67890!\")\n",
    "print(\"12345\\\\b67890!\")\n",
    "print(\"12345\\\\r67890!\")\n",
    "print('\\x41\\x42\\x43)"
   ]
  },
  {
   "cell_type": "code",
   "execution_count": null,
   "metadata": {},
   "outputs": [],
   "source": [
    "#14\n",
    "i1=10\n",
    "f1=float(i1)\n",
    "print(i1,f1,type(f1))\n",
    "f2=1234,5678\n",
    "i2=int(f2)\n",
    "print(f2,i2,type(i2))\n",
    "i3=r"
   ]
  },
  {
   "cell_type": "code",
   "execution_count": null,
   "metadata": {},
   "outputs": [],
   "source": [
    "#15\n",
    "item=input(('請輸入每公斤價格'))\n",
    "price=int(input('請輸入每公斤價格:'))\n",
    "print('%每公斤價格是%d元' %(item,price))"
   ]
  },
  {
   "cell_type": "code",
   "execution_count": null,
   "metadata": {},
   "outputs": [],
   "source": [
    "#13\n",
    "item=input(('請輸入每公斤價格'))\n",
    "price=int(input('請輸入每公斤價格:'))\n",
    "print('%s每公斤價格是%d元' %(item,price))\n",
    "print('%8s每公斤價格是%8d元' %(item,price))\n",
    "print('%-8s每公斤價格是%-8d元' %(item,price))"
   ]
  }
 ],
 "metadata": {
  "kernelspec": {
   "display_name": "Python 3 (ipykernel)",
   "language": "python",
   "name": "python3"
  },
  "language_info": {
   "codemirror_mode": {
    "name": "ipython",
    "version": 3
   },
   "file_extension": ".py",
   "mimetype": "text/x-python",
   "name": "python",
   "nbconvert_exporter": "python",
   "pygments_lexer": "ipython3",
   "version": "3.11.1"
  }
 },
 "nbformat": 4,
 "nbformat_minor": 4
}
