{
 "cells": [
  {
   "cell_type": "code",
   "execution_count": null,
   "metadata": {},
   "outputs": [],
   "source": [
    "#資一1 25號 陳俞安"
   ]
  },
  {
   "cell_type": "code",
   "execution_count": 2,
   "metadata": {},
   "outputs": [
    {
     "name": "stdout",
     "output_type": "stream",
     "text": [
      "12345.670000\n",
      "-12.345000\n",
      "12.35\n",
      "  -12.35\n",
      "123.5\n",
      "   -1235\n",
      "    1235\n"
     ]
    }
   ],
   "source": [
    "#17\n",
    "print('%f' %12345.67)\n",
    "print('%f' %-12.345)\n",
    "print('%.2f' %12.345)\n",
    "print('%8.2f' %-12.3456)\n",
    "print('%3.1f' %123.45)\n",
    "print('%8.0f' %-1234.56)\n",
    "print('%8.0f' %1234.56)"
   ]
  },
  {
   "cell_type": "code",
   "execution_count": 3,
   "metadata": {},
   "outputs": [
    {
     "name": "stdout",
     "output_type": "stream",
     "text": [
      "0x3039\n",
      "00012345\n",
      "12345   \n",
      " 12345\n"
     ]
    }
   ],
   "source": [
    "#18\n",
    "print('%#x' %12345)\n",
    "print('%08d' %12345)\n",
    "print('%-8d' %12345)\n",
    "print('% d' %12345)"
   ]
  },
  {
   "cell_type": "code",
   "execution_count": 5,
   "metadata": {},
   "outputs": [
    {
     "name": "stdout",
     "output_type": "stream",
     "text": [
      "140715108704784 140715108704784\n",
      "140715108704880 140715108704784\n",
      "140715108704688 140715108704720\n",
      "140715108704720 140715108704688\n",
      "3 2\n"
     ]
    }
   ],
   "source": [
    "#19\n",
    "x=5\n",
    "y=x\n",
    "print(id(x),id(y))\n",
    "x=3+y\n",
    "print(id(x),id(y))\n",
    "a,b=2,3\n",
    "print(id(a),id(b))\n",
    "a,b=b,a\n",
    "print(id(a),id(b))\n",
    "print(a,b)"
   ]
  },
  {
   "cell_type": "code",
   "execution_count": 6,
   "metadata": {},
   "outputs": [
    {
     "name": "stdout",
     "output_type": "stream",
     "text": [
      "請輸入半徑:5\n",
      "圓的半徑:5\n",
      "圓的周長:31.41593\n",
      "圓的面積:78.53982\n",
      "球的體積:523.59878\n"
     ]
    }
   ],
   "source": [
    "#20\n",
    "import math\n",
    "PI=math.pi\n",
    "r=float(input('請輸入半徑:'))\n",
    "print('圓的半徑:%.0f' %r)\n",
    "print('圓的周長:%.5f' %(2*PI*r))\n",
    "print('圓的面積:%.5f' %(PI*r**2))\n",
    "print('球的體積:%.5f' %(4/3*PI*r**3))"
   ]
  },
  {
   "cell_type": "code",
   "execution_count": 1,
   "metadata": {},
   "outputs": [
    {
     "name": "stdout",
     "output_type": "stream",
     "text": [
      "a=3,b=3\n",
      "a<b: False\n",
      "a>=b: True\n",
      "a==b True\n"
     ]
    }
   ],
   "source": [
    "#21\n",
    "a,b=3,3\n",
    "print('a=3,b=3')\n",
    "print('a<b:',a<b)\n",
    "print('a>=b:',a>=b)\n",
    "print('a==b',a==b)\n"
   ]
  },
  {
   "cell_type": "code",
   "execution_count": 3,
   "metadata": {},
   "outputs": [
    {
     "name": "stdout",
     "output_type": "stream",
     "text": [
      "False\n",
      "False\n",
      "True\n"
     ]
    }
   ],
   "source": [
    "#22\n",
    "print(not('A'!='a'))\n",
    "print((1<2)and('A'=='a'))\n",
    "print((-1<0)or(-1>100))"
   ]
  },
  {
   "cell_type": "code",
   "execution_count": 4,
   "metadata": {},
   "outputs": [
    {
     "name": "stdout",
     "output_type": "stream",
     "text": [
      "False\n",
      "3\n",
      "2\n",
      "0\n",
      "a\n",
      "b\n"
     ]
    }
   ],
   "source": [
    "#23\n",
    "print(not 2)\n",
    "print(2 and 3)\n",
    "print(2 or 3)\n",
    "print(0 and 3)\n",
    "print('a' or 'b')\n",
    "print('' or 'b')\n"
   ]
  },
  {
   "cell_type": "code",
   "execution_count": null,
   "metadata": {},
   "outputs": [],
   "source": []
  }
 ],
 "metadata": {
  "kernelspec": {
   "display_name": "Python 3 (ipykernel)",
   "language": "python",
   "name": "python3"
  },
  "language_info": {
   "codemirror_mode": {
    "name": "ipython",
    "version": 3
   },
   "file_extension": ".py",
   "mimetype": "text/x-python",
   "name": "python",
   "nbconvert_exporter": "python",
   "pygments_lexer": "ipython3",
   "version": "3.11.1"
  }
 },
 "nbformat": 4,
 "nbformat_minor": 4
}
