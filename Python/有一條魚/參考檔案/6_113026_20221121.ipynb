{
 "cells": [
  {
   "cell_type": "code",
   "execution_count": null,
   "metadata": {},
   "outputs": [],
   "source": [
    "#資一1 26 曾怡雯"
   ]
  },
  {
   "cell_type": "code",
   "execution_count": 1,
   "metadata": {},
   "outputs": [
    {
     "name": "stdout",
     "output_type": "stream",
     "text": [
      "True\n",
      "True\n",
      "True\n",
      "False\n"
     ]
    }
   ],
   "source": [
    "#26\n",
    "print('p' in 'python')\n",
    "print('x' not in 'python')\n",
    "print(1 in [1,2,3])\n",
    "print(2 not in [1,2,3])"
   ]
  },
  {
   "cell_type": "code",
   "execution_count": 2,
   "metadata": {},
   "outputs": [
    {
     "name": "stdout",
     "output_type": "stream",
     "text": [
      "2372020538224 2372011051056\n",
      "False True\n",
      "2372021190864\n",
      "False True\n"
     ]
    }
   ],
   "source": [
    "#27\n",
    "x=2.5\n",
    "y=2.5\n",
    "print(id(x),id(y))\n",
    "print(x is y,x==y)\n",
    "z=float('2.5')\n",
    "print(id(z))\n",
    "print(z is x,z==x)"
   ]
  },
  {
   "cell_type": "code",
   "execution_count": null,
   "metadata": {},
   "outputs": [],
   "source": [
    "#28\n",
    "print('程式語言的成績是'+str(60)+'分')"
   ]
  },
  {
   "cell_type": "code",
   "execution_count": 1,
   "metadata": {},
   "outputs": [
    {
     "name": "stdout",
     "output_type": "stream",
     "text": [
      "程式語言~~~~~~~~~~~~~~~~~~~~~~~~~~~~~~~~~~~~60分\n"
     ]
    }
   ],
   "source": [
    "#29\n",
    "s='~'\n",
    "print('程式語言'+s*36+'60分')"
   ]
  },
  {
   "cell_type": "code",
   "execution_count": 5,
   "metadata": {},
   "outputs": [
    {
     "name": "stdout",
     "output_type": "stream",
     "text": [
      "h\n",
      "語\n"
     ]
    }
   ],
   "source": [
    "#30\n",
    "s='python程式語言'\n",
    "print(s[3])\n",
    "print(s[-2])"
   ]
  },
  {
   "cell_type": "code",
   "execution_count": 3,
   "metadata": {},
   "outputs": [
    {
     "name": "stdout",
     "output_type": "stream",
     "text": [
      "python程式語言\n",
      "式語言\n",
      "python\n",
      "n程式\n",
      "言語式\n",
      "言語式程nohtyp\n",
      "言式nhy\n"
     ]
    }
   ],
   "source": [
    "#31\n",
    "s='python程式語言'\n",
    "print(s[:])\n",
    "print(s[7:])\n",
    "print(s[:6])\n",
    "print(s[5:8])\n",
    "print(s[9:6:-1])\n",
    "print(s[::-1])\n",
    "print(s[::-2])"
   ]
  },
  {
   "cell_type": "code",
   "execution_count": null,
   "metadata": {},
   "outputs": [],
   "source": []
  }
 ],
 "metadata": {
  "kernelspec": {
   "display_name": "Python 3 (ipykernel)",
   "language": "python",
   "name": "python3"
  },
  "language_info": {
   "codemirror_mode": {
    "name": "ipython",
    "version": 3
   },
   "file_extension": ".py",
   "mimetype": "text/x-python",
   "name": "python",
   "nbconvert_exporter": "python",
   "pygments_lexer": "ipython3",
   "version": "3.11.1"
  }
 },
 "nbformat": 4,
 "nbformat_minor": 4
}
